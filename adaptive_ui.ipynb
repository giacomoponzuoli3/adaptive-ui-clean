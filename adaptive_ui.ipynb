{
  "cells": [
    {
      "cell_type": "markdown",
      "metadata": {
        "id": "VsdsqRFG3ARG"
      },
      "source": [
        "# Installation and Environment set up"
      ]
    },
    {
      "cell_type": "markdown",
      "metadata": {
        "id": "iR1GxG93FAQl"
      },
      "source": [
        "## Clone Repository GitHub"
      ]
    },
    {
      "cell_type": "code",
      "execution_count": 1,
      "metadata": {
        "id": "ri40vEFw4F1e"
      },
      "outputs": [],
      "source": [
        "!rm -rf sample_data/\n",
        "!rm -rf adaptive-ui-clean/\n",
        "!rm -rf /content/yolov8x-worldv2.pt"
      ]
    },
    {
      "cell_type": "code",
      "execution_count": null,
      "metadata": {
        "colab": {
          "base_uri": "https://localhost:8080/"
        },
        "id": "oP0YuYjX24Tb",
        "outputId": "1234d387-43dc-4e1e-bc2f-2e980ca30f68"
      },
      "outputs": [],
      "source": [
        "# Download from github\n",
        "# if don't exist clone otherwise nothing\n",
        "!test -d adaptive-ui-clean || git clone https://github.com/giacomoponzuoli3/adaptive-ui-clean.git"
      ]
    },
    {
      "cell_type": "markdown",
      "metadata": {
        "id": "iEm8BBnGF6uC"
      },
      "source": [
        "## Installation of dependences"
      ]
    },
    {
      "cell_type": "code",
      "execution_count": null,
      "metadata": {
        "colab": {
          "base_uri": "https://localhost:8080/"
        },
        "id": "1YdTR_ri47Xg",
        "outputId": "af3b6f7f-3f09-4378-e4e2-bdbd3e709bbf"
      },
      "outputs": [],
      "source": [
        "# installation of dependeces\n",
        "!pip -q install pyyaml numpy pandas matplotlib scikit-learn pillow opencv-python tqdm huggingface_hub datasets ultralytics ipdb"
      ]
    },
    {
      "cell_type": "markdown",
      "metadata": {},
      "source": [
        "## Imports"
      ]
    },
    {
      "cell_type": "code",
      "execution_count": null,
      "metadata": {},
      "outputs": [],
      "source": [
        "from getpass import getpass\n",
        "from huggingface_hub import login, snapshot_download, HfApi, create_repo, upload_folder\n",
        "\n",
        "import os, shutil"
      ]
    },
    {
      "cell_type": "markdown",
      "metadata": {},
      "source": [
        "## Download Outdoor original video frames"
      ]
    },
    {
      "cell_type": "code",
      "execution_count": null,
      "metadata": {
        "colab": {
          "base_uri": "https://localhost:8080/",
          "height": 350
        },
        "collapsed": true,
        "id": "5vImvWsazHvt",
        "outputId": "0ff272a3-7a29-4434-d3b5-21c4691a2890"
      },
      "outputs": [],
      "source": [
        "\n",
        "# Insert your token\n",
        "HF_TOKEN = getpass(\"Hugging Face token (inizia con 'hf_'): \")\n",
        "\n",
        "#Substitute with your private dataset repo ID\n",
        "REPO_ID = \"giacomoponzuoli3/adaptive-ui-outdoor-visibilty\"\n",
        "\n",
        "# Subpath to download\n",
        "SUBPATH  = \"video_frames_outdoor/recording_1013143887256571\"\n",
        "#SUBPATH  = \"video_frames_outdoor/recording_1047767169978917\"\n",
        "#SUBPATH  = \"video_frames_outdoor/recording_1053053072788781\"\n",
        "#SUBPATH  = \"video_frames_outdoor/recording_1056705816066784\"\n",
        "#SUBPATH  = \"video_frames_outdoor/recording_1057018752751527\"\n",
        "#SUBPATH  = \"video_frames_outdoor/recording_1061673788897883\"\n",
        "#SUBPATH  = \"video_frames_outdoor/recording_1073662521104884\"\n",
        "#SUBPATH  = \"video_frames_outdoor/recording_1074684370674657\"\n",
        "#SUBPATH  = \"video_frames_outdoor/recording_1078840057577521\"\n",
        "#SUBPATH  = \"video_frames_outdoor/recording_1099703898158071\"\n",
        "#SUBPATH  = \"video_frames_outdoor/recording_1120809332737512\"\n",
        "#SUBPATH  = \"video_frames_outdoor/recording_1173135830437215\"\n",
        "\n",
        "#SUBPATH  = \"video_frames_outdoor/recording_1175008770223722\"\n",
        "#SUBPATH  = \"video_frames_outdoor/recording_1199721197750621\"\n",
        "#SUBPATH  = \"video_frames_outdoor/recording_1224828835384130\"\n",
        "#SUBPATH  = \"video_frames_outdoor/recording_1229774828171826\"\n",
        "#SUBPATH  = \"video_frames_outdoor/recording_1242752083704159\"\n",
        "#SUBPATH  = \"video_frames_outdoor/recording_1248321329927862\"\n",
        "#SUBPATH  = \"video_frames_outdoor/recording_1257470041836025\"\n",
        "#SUBPATH  = \"video_frames_outdoor/recording_1278104706677057\"\n",
        "#SUBPATH  = \"video_frames_outdoor/recording_1339440250346866\"\n",
        "#SUBPATH  = \"video_frames_outdoor/recording_1446119809363548\"\n",
        "#SUBPATH  = \"video_frames_outdoor/recording_1451016918850127\"\n",
        "#SUBPATH  = \"video_frames_outdoor/recording_1464501567592901\"\n",
        "\n",
        "#SUBPATH  = \"video_frames_outdoor/recording_1465376780791149\"\n",
        "#SUBPATH  = \"video_frames_outdoor/recording_1509670213005643\"\n",
        "#SUBPATH  = \"video_frames_outdoor/recording_1559491511615645\"\n",
        "#SUBPATH  = \"video_frames_outdoor/recording_1561241784806410\"\n",
        "#SUBPATH  = \"video_frames_outdoor/recording_1589968878220994\"\n",
        "#SUBPATH  = \"video_frames_outdoor/recording_1605877810280066\"\n",
        "#SUBPATH  = \"video_frames_outdoor/recording_1664858210911440\"\n",
        "#SUBPATH  = \"video_frames_outdoor/recording_1723524325073193\"\n",
        "#SUBPATH  = \"video_frames_outdoor/recording_1738061706941086\"\n",
        "#SUBPATH  = \"video_frames_outdoor/recording_1744890252715997\"\n",
        "#SUBPATH  = \"video_frames_outdoor/recording_1947994158971994\"\n",
        "#SUBPATH  = \"video_frames_outdoor/recording_1983494342152387\"\n",
        "#SUBPATH  = \"video_frames_outdoor/recording_2154197261640648\"\n",
        "#SUBPATH  = \"video_frames_outdoor/recording_2263006570727110\"\n",
        "#SUBPATH  = \"video_frames_outdoor/recording_2310784129296837\"\n",
        "\n",
        "#SUBPATH  = \"video_frames_outdoor/recording_26910277515284456\"\n",
        "#SUBPATH  = \"video_frames_outdoor/recording_2804873779681357\"\n",
        "#SUBPATH  = \"video_frames_outdoor/recording_2861970153970966\"\n",
        "#SUBPATH  = \"video_frames_outdoor/recording_2874281686067074\"\n",
        "#SUBPATH  = \"video_frames_outdoor/recording_3338313216303419\"\n",
        "#SUBPATH  = \"video_frames_outdoor/recording_335767442881471\"\n",
        "#SUBPATH  = \"video_frames_outdoor/recording_3674709426113842\"\n",
        "#SUBPATH  = \"video_frames_outdoor/recording_3883734215216970\"\n",
        "#SUBPATH  = \"video_frames_outdoor/recording_419446457590567\"\n",
        "#SUBPATH  = \"video_frames_outdoor/recording_438276488872707\"\n",
        "#SUBPATH  = \"video_frames_outdoor/recording_463965796630125\"\n",
        "\n",
        "#SUBPATH  = \"video_frames_outdoor/recording_481680718179172\"\n",
        "#SUBPATH  = \"video_frames_outdoor/recording_495606053456369\"\n",
        "#SUBPATH  = \"video_frames_outdoor/recording_496787149798594\"\n",
        "#SUBPATH  = \"video_frames_outdoor/recording_505525682371994\"\n",
        "#SUBPATH  = \"video_frames_outdoor/recording_506811838718054\"\n",
        "#SUBPATH  = \"video_frames_outdoor/recording_507673755183320\"\n",
        "#SUBPATH  = \"video_frames_outdoor/recording_513667388111193\"\n",
        "#SUBPATH  = \"video_frames_outdoor/recording_522060430552651\"\n",
        "#SUBPATH  = \"video_frames_outdoor/recording_525065940126690\"\n",
        "#SUBPATH  = \"video_frames_outdoor/recording_526729470300043\"\n",
        "\n",
        "#SUBPATH  = \"video_frames_outdoor/recording_539647728613813\"\n",
        "#SUBPATH  = \"video_frames_outdoor/recording_539707968792900\"\n",
        "#SUBPATH  = \"video_frames_outdoor/recording_546267671238100\"\n",
        "#SUBPATH  = \"video_frames_outdoor/recording_547476497950519\"\n",
        "#SUBPATH  = \"video_frames_outdoor/recording_548748957620690\"\n",
        "#SUBPATH  = \"video_frames_outdoor/recording_554001616975921\"\n",
        "#SUBPATH  = \"video_frames_outdoor/recording_557368980188448\"\n",
        "#SUBPATH  = \"video_frames_outdoor/recording_571687658531728\"\n",
        "#SUBPATH  = \"video_frames_outdoor/recording_720700043555459\"\n",
        "#SUBPATH  = \"video_frames_outdoor/recording_802700365184064\"\n",
        "\n",
        "#SUBPATH  = \"video_frames_outdoor/recording_8130327293763638\"\n",
        "#SUBPATH  = \"video_frames_outdoor/recording_816953837180751\"\n",
        "#SUBPATH  = \"video_frames_outdoor/recording_818457346852000\"\n",
        "#SUBPATH  = \"video_frames_outdoor/recording_826729622984448\"\n",
        "#SUBPATH  = \"video_frames_outdoor/recording_840656321614528\"\n",
        "#SUBPATH  = \"video_frames_outdoor/recording_841348857780101\"\n",
        "#SUBPATH  = \"video_frames_outdoor/recording_861114956160346\"\n",
        "#SUBPATH  = \"video_frames_outdoor/recording_874434494665685\"\n",
        "#SUBPATH  = \"video_frames_outdoor/recording_874635564610984\"\n",
        "#SUBPATH  = \"video_frames_outdoor/recording_875754211162644\"\n",
        "\n",
        "#SUBPATH  = \"video_frames_outdoor/recording_887417609494121\"\n",
        "#SUBPATH  = \"video_frames_outdoor/recording_900851771949400\"\n",
        "#SUBPATH  = \"video_frames_outdoor/recording_908313417343547\"\n",
        "#SUBPATH  = \"video_frames_outdoor/recording_916014097065663\"\n",
        "#SUBPATH  = \"video_frames_outdoor/recording_916391457066422\"\n",
        "#SUBPATH  = \"video_frames_outdoor/recording_916515286984631\"\n",
        "#SUBPATH  = \"video_frames_outdoor/recording_9262399620441214\"\n",
        "#SUBPATH  = \"video_frames_outdoor/recording_946808614132107\"\n",
        "#SUBPATH  = \"video_frames_outdoor/recording_950451000254505\"\n",
        "#SUBPATH  = \"video_frames_outdoor/recording_971692201310931\"\n",
        "#SUBPATH  = \"video_frames_outdoor/recording_982531483627587\"\n",
        "#SUBPATH  = \"video_frames_outdoor/recording_993218322821802\"\n",
        "#SUBPATH  = \"video_frames_outdoor/recording_994355379105198\"\n",
        "\n",
        "# Destination folder in Colab\n",
        "LOCAL_DIR = \"/content/adaptive-ui-clean/data/\"\n",
        "\n",
        "# Login\n",
        "login(token=HF_TOKEN)\n",
        "\n",
        "# Download only the subpath specified\n",
        "snapshot_download(\n",
        "    repo_id=REPO_ID,\n",
        "    repo_type=\"dataset\",\n",
        "    local_dir=LOCAL_DIR,\n",
        "    local_dir_use_symlinks=False, \n",
        "    allow_patterns=[f\"{SUBPATH}/**\"], \n",
        "    token=HF_TOKEN\n",
        ")"
      ]
    },
    {
      "cell_type": "markdown",
      "metadata": {
        "id": "SxQYrsuGzHvt"
      },
      "source": [
        "# Generate Outdoor Dataset"
      ]
    },
    {
      "cell_type": "markdown",
      "metadata": {
        "id": "NCbxRqabzHvt"
      },
      "source": [
        "### Generate Single Istance (Test to try if all works correctly)"
      ]
    },
    {
      "cell_type": "code",
      "execution_count": null,
      "metadata": {
        "colab": {
          "base_uri": "https://localhost:8080/"
        },
        "id": "bkTZHVolzHvt",
        "outputId": "6340021a-228f-4d38-8246-ef2dc569e280"
      },
      "outputs": [],
      "source": [
        "!python /content/adaptive-ui-clean/src/utils/gen_instance.py"
      ]
    },
    {
      "cell_type": "markdown",
      "metadata": {
        "id": "ys6xCnlxzHvu"
      },
      "source": [
        "### Generate Dataset"
      ]
    },
    {
      "cell_type": "code",
      "execution_count": null,
      "metadata": {
        "colab": {
          "base_uri": "https://localhost:8080/"
        },
        "collapsed": true,
        "id": "1ELdGYbfzHvu",
        "outputId": "fd086baa-df0f-47bc-b44f-6dcf17b8f1ef"
      },
      "outputs": [],
      "source": [
        "!python /content/adaptive-ui-clean/src/utils/gen_dataset.py --task 2"
      ]
    },
    {
      "cell_type": "markdown",
      "metadata": {
        "id": "Ud46TZttzHvu"
      },
      "source": [
        "### Upload generated overlays Outdoor to Hugging Face"
      ]
    },
    {
      "cell_type": "code",
      "execution_count": null,
      "metadata": {
        "id": "WO8k0pOAzHvu"
      },
      "outputs": [],
      "source": [
        "# Paste a Write token\n",
        "token = getpass(\"Enter your Hugging Face token: \")\n",
        "login(token=token)\n",
        "print(\"Logged in.\")\n",
        "\n",
        "# Variables \n",
        "USERNAME     = \"giacomoponzuoli3\"        \n",
        "REPO_NAME    = \"adaptive-ui-outdoor-visibilty\" \n",
        "REPO_TYPE    = \"dataset\"             \n",
        "LOCAL_FOLDER = \"/content/adaptive-ui-clean/data/generated_overlays\"\n",
        "PRIVATE     = True\n",
        "\n",
        "repo_id = f\"{USERNAME}/{REPO_NAME}\"\n",
        "assert os.path.isdir(LOCAL_FOLDER), f\"Folder not found: {LOCAL_FOLDER}\"\n",
        "\n",
        "api = HfApi()\n",
        "\n",
        "# Create the repo if it doesn't exist\n",
        "create_repo(\n",
        "    repo_id=repo_id,\n",
        "    repo_type=REPO_TYPE,\n",
        "    private=PRIVATE,\n",
        "    exist_ok=True\n",
        ")\n",
        "\n",
        "# Upload the whole folder\n",
        "upload_folder(\n",
        "    repo_id=repo_id,\n",
        "    repo_type=REPO_TYPE,\n",
        "    folder_path=LOCAL_FOLDER,\n",
        "    path_in_repo=\".\",             \n",
        "    commit_message=\"Add folder from Colab\",\n",
        "    ignore_patterns=[\"**/.ipynb_checkpoints/**\", \"**/__pycache__/**\"]\n",
        ")\n",
        "\n",
        "print(f\"Upload complete: https://huggingface.co/{repo_id}\")\n"
      ]
    },
    {
      "cell_type": "markdown",
      "metadata": {
        "id": "KXDXpSnZ7sbw"
      },
      "source": [
        "## Download Indoor Dataset"
      ]
    },
    {
      "cell_type": "code",
      "execution_count": null,
      "metadata": {
        "id": "kFEZ0FY9zHvu"
      },
      "outputs": [],
      "source": [
        "\n",
        "# Insert your token\n",
        "HF_TOKEN = getpass(\"Hugging Face token (inizia con 'hf_'): \")\n",
        "\n",
        "# Subsitute with your private dataset repo ID\n",
        "REPO_ID = \"giacomoponzuoli3/adaptive-ui-data\"\n",
        "\n",
        "# Destination folder in Colab\n",
        "LOCAL_DIR = \"/content/adaptive-ui-clean/data/generated_overlays\"\n",
        "\n",
        "# Login\n",
        "login(token=HF_TOKEN)\n",
        "\n",
        "# Download\n",
        "snapshot_download(\n",
        "    repo_id=REPO_ID,\n",
        "    repo_type=\"dataset\",\n",
        "    local_dir=LOCAL_DIR,\n",
        "    local_dir_use_symlinks=False, \n",
        "    token=HF_TOKEN\n",
        ")"
      ]
    },
    {
      "cell_type": "markdown",
      "metadata": {
        "id": "THXksTUfzHvu"
      },
      "source": [
        "# Visibility Task"
      ]
    },
    {
      "cell_type": "markdown",
      "metadata": {},
      "source": [
        "## Only Outdoor dataset"
      ]
    },
    {
      "cell_type": "markdown",
      "metadata": {},
      "source": [
        "#### Download Outdoor generated overlays from Hugging Face"
      ]
    },
    {
      "cell_type": "code",
      "execution_count": null,
      "metadata": {},
      "outputs": [],
      "source": [
        "\n",
        "from getpass import getpass\n",
        "from huggingface_hub import login, snapshot_download\n",
        "import os, shutil\n",
        "\n",
        "# Insert your token\n",
        "HF_TOKEN = getpass(\"Hugging Face token (inizia con 'hf_'): \")\n",
        "\n",
        "# Substitute with your private dataset repo ID\n",
        "REPO_ID = \"giacomoponzuoli3/adaptive-ui-outdoor-visibilty\"\n",
        "\n",
        "# Destination folder in Colab\n",
        "LOCAL_DIR = \"/content/adaptive-ui-clean/data/generated_overlays\"\n",
        "\n",
        "# Subpath\n",
        "SUBPATH  = \"task_2\"\n",
        "\n",
        "# Login\n",
        "login(token=HF_TOKEN)\n",
        "\n",
        "# Download only the subpath specified\n",
        "snapshot_download(\n",
        "    repo_id=REPO_ID,\n",
        "    repo_type=\"dataset\",\n",
        "    local_dir=LOCAL_DIR,\n",
        "    local_dir_use_symlinks=False,\n",
        "    allow_patterns=[f\"{SUBPATH}/**\"],\n",
        "    token=HF_TOKEN\n",
        ")"
      ]
    },
    {
      "cell_type": "markdown",
      "metadata": {},
      "source": [
        "### Inference zero-shot"
      ]
    },
    {
      "cell_type": "code",
      "execution_count": null,
      "metadata": {
        "vscode": {
          "languageId": "shellscript"
        }
      },
      "outputs": [],
      "source": [
        "!python3 /content/adaptive-ui-clean/src/inference/zero-shot.py --task 2 \\\n",
        "    --train_path /content/adaptive-ui-clean/data/video_framedataset_outdoor_train.jsonl \\\n",
        "    --test_path /content/adaptive-ui-clean/data/video_framedataset_outdoor_test.jsonl \\\n",
        "    --val_path /content/adaptive-ui-clean/data/video_framedataset_outdoor_val.jsonl \\\n",
        "    --model_id \"Qwen/Qwen2.5-VL-32B-Instruct\" \\\n",
        "    --question_type \"simple\""
      ]
    },
    {
      "cell_type": "markdown",
      "metadata": {},
      "source": [
        "### Fine Tuning"
      ]
    },
    {
      "cell_type": "markdown",
      "metadata": {
        "id": "GzPIcJ1LzHvu"
      },
      "source": [
        "#### Training"
      ]
    },
    {
      "cell_type": "code",
      "execution_count": null,
      "metadata": {
        "id": "2zrWpIzqzHvu"
      },
      "outputs": [],
      "source": []
    },
    {
      "cell_type": "markdown",
      "metadata": {
        "id": "8fjzLGLwzHvu"
      },
      "source": [
        "#### Test"
      ]
    },
    {
      "cell_type": "code",
      "execution_count": null,
      "metadata": {
        "id": "P4CK2sxyzHvv"
      },
      "outputs": [],
      "source": []
    },
    {
      "cell_type": "markdown",
      "metadata": {},
      "source": [
        "## Outdoor and Indoor dataset together"
      ]
    },
    {
      "cell_type": "markdown",
      "metadata": {},
      "source": [
        "### Inference zero-shot"
      ]
    },
    {
      "cell_type": "code",
      "execution_count": null,
      "metadata": {},
      "outputs": [],
      "source": []
    },
    {
      "cell_type": "markdown",
      "metadata": {},
      "source": [
        "### Fine Tuning"
      ]
    },
    {
      "cell_type": "markdown",
      "metadata": {},
      "source": [
        "#### Training"
      ]
    },
    {
      "cell_type": "code",
      "execution_count": null,
      "metadata": {},
      "outputs": [],
      "source": []
    },
    {
      "cell_type": "markdown",
      "metadata": {},
      "source": [
        "#### Test"
      ]
    },
    {
      "cell_type": "code",
      "execution_count": null,
      "metadata": {},
      "outputs": [],
      "source": []
    }
  ],
  "metadata": {
    "accelerator": "GPU",
    "colab": {
      "gpuType": "T4",
      "provenance": []
    },
    "kernelspec": {
      "display_name": "Python 3",
      "name": "python3"
    },
    "language_info": {
      "name": "python"
    }
  },
  "nbformat": 4,
  "nbformat_minor": 0
}
